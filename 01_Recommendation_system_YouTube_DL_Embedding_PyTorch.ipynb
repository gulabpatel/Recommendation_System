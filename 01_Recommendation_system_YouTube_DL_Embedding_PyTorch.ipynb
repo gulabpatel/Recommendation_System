{
  "nbformat": 4,
  "nbformat_minor": 0,
  "metadata": {
    "kernelspec": {
      "display_name": "Python 3",
      "language": "python",
      "name": "python3"
    },
    "language_info": {
      "codemirror_mode": {
        "name": "ipython",
        "version": 3
      },
      "file_extension": ".py",
      "mimetype": "text/x-python",
      "name": "python",
      "nbconvert_exporter": "python",
      "pygments_lexer": "ipython3",
      "version": "3.6.4"
    },
    "colab": {
      "name": "01: Recommendation_system_YouTube_DL_Embedding_PyTorch.ipynb",
      "provenance": [],
      "collapsed_sections": [],
      "include_colab_link": true
    },
    "widgets": {
      "application/vnd.jupyter.widget-state+json": {
        "22c92cbb5dda4b629b9a19f99912a4ed": {
          "model_module": "@jupyter-widgets/controls",
          "model_name": "HBoxModel",
          "model_module_version": "1.5.0",
          "state": {
            "_view_name": "HBoxView",
            "_dom_classes": [],
            "_model_name": "HBoxModel",
            "_view_module": "@jupyter-widgets/controls",
            "_model_module_version": "1.5.0",
            "_view_count": null,
            "_view_module_version": "1.5.0",
            "box_style": "",
            "layout": "IPY_MODEL_5b68332e2f6f4e57b6bc8d316695e95b",
            "_model_module": "@jupyter-widgets/controls",
            "children": [
              "IPY_MODEL_05cbaa492add4a9fb56483bc4be86dd7",
              "IPY_MODEL_9477b7b04c65461ea844962a8ea53fea",
              "IPY_MODEL_661b99a7d28d41dea22a1f72b3965341"
            ]
          }
        },
        "5b68332e2f6f4e57b6bc8d316695e95b": {
          "model_module": "@jupyter-widgets/base",
          "model_name": "LayoutModel",
          "model_module_version": "1.2.0",
          "state": {
            "_view_name": "LayoutView",
            "grid_template_rows": null,
            "right": null,
            "justify_content": null,
            "_view_module": "@jupyter-widgets/base",
            "overflow": null,
            "_model_module_version": "1.2.0",
            "_view_count": null,
            "flex_flow": null,
            "width": null,
            "min_width": null,
            "border": null,
            "align_items": null,
            "bottom": null,
            "_model_module": "@jupyter-widgets/base",
            "top": null,
            "grid_column": null,
            "overflow_y": null,
            "overflow_x": null,
            "grid_auto_flow": null,
            "grid_area": null,
            "grid_template_columns": null,
            "flex": null,
            "_model_name": "LayoutModel",
            "justify_items": null,
            "grid_row": null,
            "max_height": null,
            "align_content": null,
            "visibility": null,
            "align_self": null,
            "height": null,
            "min_height": null,
            "padding": null,
            "grid_auto_rows": null,
            "grid_gap": null,
            "max_width": null,
            "order": null,
            "_view_module_version": "1.2.0",
            "grid_template_areas": null,
            "object_position": null,
            "object_fit": null,
            "grid_auto_columns": null,
            "margin": null,
            "display": null,
            "left": null
          }
        },
        "05cbaa492add4a9fb56483bc4be86dd7": {
          "model_module": "@jupyter-widgets/controls",
          "model_name": "HTMLModel",
          "model_module_version": "1.5.0",
          "state": {
            "_view_name": "HTMLView",
            "style": "IPY_MODEL_151a2875b2f94bafb2a8d65b5e0f4ae0",
            "_dom_classes": [],
            "description": "",
            "_model_name": "HTMLModel",
            "placeholder": "​",
            "_view_module": "@jupyter-widgets/controls",
            "_model_module_version": "1.5.0",
            "value": " 23%",
            "_view_count": null,
            "_view_module_version": "1.5.0",
            "description_tooltip": null,
            "_model_module": "@jupyter-widgets/controls",
            "layout": "IPY_MODEL_d08c07b75d40477982028446f6875955"
          }
        },
        "9477b7b04c65461ea844962a8ea53fea": {
          "model_module": "@jupyter-widgets/controls",
          "model_name": "FloatProgressModel",
          "model_module_version": "1.5.0",
          "state": {
            "_view_name": "ProgressView",
            "style": "IPY_MODEL_c90f3bda751d4dc89cc375bc00bed7b0",
            "_dom_classes": [],
            "description": "",
            "_model_name": "FloatProgressModel",
            "bar_style": "danger",
            "max": 100,
            "_view_module": "@jupyter-widgets/controls",
            "_model_module_version": "1.5.0",
            "value": 23,
            "_view_count": null,
            "_view_module_version": "1.5.0",
            "orientation": "horizontal",
            "min": 0,
            "description_tooltip": null,
            "_model_module": "@jupyter-widgets/controls",
            "layout": "IPY_MODEL_57ab994ce026411c994ac055bb58db12"
          }
        },
        "661b99a7d28d41dea22a1f72b3965341": {
          "model_module": "@jupyter-widgets/controls",
          "model_name": "HTMLModel",
          "model_module_version": "1.5.0",
          "state": {
            "_view_name": "HTMLView",
            "style": "IPY_MODEL_7c1b9bbe4e6d4299af3f2ba842e2592d",
            "_dom_classes": [],
            "description": "",
            "_model_name": "HTMLModel",
            "placeholder": "​",
            "_view_module": "@jupyter-widgets/controls",
            "_model_module_version": "1.5.0",
            "value": " 23/100 [02:17&lt;07:22,  5.75s/it]",
            "_view_count": null,
            "_view_module_version": "1.5.0",
            "description_tooltip": null,
            "_model_module": "@jupyter-widgets/controls",
            "layout": "IPY_MODEL_6a0831d6c27440549f74205cd1ff75c8"
          }
        },
        "151a2875b2f94bafb2a8d65b5e0f4ae0": {
          "model_module": "@jupyter-widgets/controls",
          "model_name": "DescriptionStyleModel",
          "model_module_version": "1.5.0",
          "state": {
            "_view_name": "StyleView",
            "_model_name": "DescriptionStyleModel",
            "description_width": "",
            "_view_module": "@jupyter-widgets/base",
            "_model_module_version": "1.5.0",
            "_view_count": null,
            "_view_module_version": "1.2.0",
            "_model_module": "@jupyter-widgets/controls"
          }
        },
        "d08c07b75d40477982028446f6875955": {
          "model_module": "@jupyter-widgets/base",
          "model_name": "LayoutModel",
          "model_module_version": "1.2.0",
          "state": {
            "_view_name": "LayoutView",
            "grid_template_rows": null,
            "right": null,
            "justify_content": null,
            "_view_module": "@jupyter-widgets/base",
            "overflow": null,
            "_model_module_version": "1.2.0",
            "_view_count": null,
            "flex_flow": null,
            "width": null,
            "min_width": null,
            "border": null,
            "align_items": null,
            "bottom": null,
            "_model_module": "@jupyter-widgets/base",
            "top": null,
            "grid_column": null,
            "overflow_y": null,
            "overflow_x": null,
            "grid_auto_flow": null,
            "grid_area": null,
            "grid_template_columns": null,
            "flex": null,
            "_model_name": "LayoutModel",
            "justify_items": null,
            "grid_row": null,
            "max_height": null,
            "align_content": null,
            "visibility": null,
            "align_self": null,
            "height": null,
            "min_height": null,
            "padding": null,
            "grid_auto_rows": null,
            "grid_gap": null,
            "max_width": null,
            "order": null,
            "_view_module_version": "1.2.0",
            "grid_template_areas": null,
            "object_position": null,
            "object_fit": null,
            "grid_auto_columns": null,
            "margin": null,
            "display": null,
            "left": null
          }
        },
        "c90f3bda751d4dc89cc375bc00bed7b0": {
          "model_module": "@jupyter-widgets/controls",
          "model_name": "ProgressStyleModel",
          "model_module_version": "1.5.0",
          "state": {
            "_view_name": "StyleView",
            "_model_name": "ProgressStyleModel",
            "description_width": "",
            "_view_module": "@jupyter-widgets/base",
            "_model_module_version": "1.5.0",
            "_view_count": null,
            "_view_module_version": "1.2.0",
            "bar_color": null,
            "_model_module": "@jupyter-widgets/controls"
          }
        },
        "57ab994ce026411c994ac055bb58db12": {
          "model_module": "@jupyter-widgets/base",
          "model_name": "LayoutModel",
          "model_module_version": "1.2.0",
          "state": {
            "_view_name": "LayoutView",
            "grid_template_rows": null,
            "right": null,
            "justify_content": null,
            "_view_module": "@jupyter-widgets/base",
            "overflow": null,
            "_model_module_version": "1.2.0",
            "_view_count": null,
            "flex_flow": null,
            "width": null,
            "min_width": null,
            "border": null,
            "align_items": null,
            "bottom": null,
            "_model_module": "@jupyter-widgets/base",
            "top": null,
            "grid_column": null,
            "overflow_y": null,
            "overflow_x": null,
            "grid_auto_flow": null,
            "grid_area": null,
            "grid_template_columns": null,
            "flex": null,
            "_model_name": "LayoutModel",
            "justify_items": null,
            "grid_row": null,
            "max_height": null,
            "align_content": null,
            "visibility": null,
            "align_self": null,
            "height": null,
            "min_height": null,
            "padding": null,
            "grid_auto_rows": null,
            "grid_gap": null,
            "max_width": null,
            "order": null,
            "_view_module_version": "1.2.0",
            "grid_template_areas": null,
            "object_position": null,
            "object_fit": null,
            "grid_auto_columns": null,
            "margin": null,
            "display": null,
            "left": null
          }
        },
        "7c1b9bbe4e6d4299af3f2ba842e2592d": {
          "model_module": "@jupyter-widgets/controls",
          "model_name": "DescriptionStyleModel",
          "model_module_version": "1.5.0",
          "state": {
            "_view_name": "StyleView",
            "_model_name": "DescriptionStyleModel",
            "description_width": "",
            "_view_module": "@jupyter-widgets/base",
            "_model_module_version": "1.5.0",
            "_view_count": null,
            "_view_module_version": "1.2.0",
            "_model_module": "@jupyter-widgets/controls"
          }
        },
        "6a0831d6c27440549f74205cd1ff75c8": {
          "model_module": "@jupyter-widgets/base",
          "model_name": "LayoutModel",
          "model_module_version": "1.2.0",
          "state": {
            "_view_name": "LayoutView",
            "grid_template_rows": null,
            "right": null,
            "justify_content": null,
            "_view_module": "@jupyter-widgets/base",
            "overflow": null,
            "_model_module_version": "1.2.0",
            "_view_count": null,
            "flex_flow": null,
            "width": null,
            "min_width": null,
            "border": null,
            "align_items": null,
            "bottom": null,
            "_model_module": "@jupyter-widgets/base",
            "top": null,
            "grid_column": null,
            "overflow_y": null,
            "overflow_x": null,
            "grid_auto_flow": null,
            "grid_area": null,
            "grid_template_columns": null,
            "flex": null,
            "_model_name": "LayoutModel",
            "justify_items": null,
            "grid_row": null,
            "max_height": null,
            "align_content": null,
            "visibility": null,
            "align_self": null,
            "height": null,
            "min_height": null,
            "padding": null,
            "grid_auto_rows": null,
            "grid_gap": null,
            "max_width": null,
            "order": null,
            "_view_module_version": "1.2.0",
            "grid_template_areas": null,
            "object_position": null,
            "object_fit": null,
            "grid_auto_columns": null,
            "margin": null,
            "display": null,
            "left": null
          }
        }
      }
    }
  },
  "cells": [
    {
      "cell_type": "markdown",
      "metadata": {
        "id": "view-in-github",
        "colab_type": "text"
      },
      "source": [
        "<a href=\"https://colab.research.google.com/github/gulabpatel/Recommendation_System/blob/main/01_Recommendation_system_YouTube_DL_Embedding_PyTorch.ipynb\" target=\"_parent\"><img src=\"https://colab.research.google.com/assets/colab-badge.svg\" alt=\"Open In Colab\"/></a>"
      ]
    },
    {
      "cell_type": "markdown",
      "metadata": {
        "id": "RpDtuJrJVouA"
      },
      "source": [
        "Blog : https://data-flair.training/blogs/youtube-video-recommendation-system-ml/"
      ]
    },
    {
      "cell_type": "code",
      "metadata": {
        "colab": {
          "base_uri": "https://localhost:8080/"
        },
        "id": "0vebdD6WApSl",
        "outputId": "9ff638eb-737e-440c-f274-905cbd5d6fe6"
      },
      "source": [
        "import os\n",
        "from google.colab import drive\n",
        "drive.mount('/content/drive')"
      ],
      "execution_count": 1,
      "outputs": [
        {
          "output_type": "stream",
          "name": "stdout",
          "text": [
            "Drive already mounted at /content/drive; to attempt to forcibly remount, call drive.mount(\"/content/drive\", force_remount=True).\n"
          ]
        }
      ]
    },
    {
      "cell_type": "code",
      "metadata": {
        "colab": {
          "base_uri": "https://localhost:8080/"
        },
        "id": "mPNbfvfRBMkD",
        "outputId": "7b819256-8ffb-4921-afd1-d71f3e72e6a6"
      },
      "source": [
        "!pwd"
      ],
      "execution_count": 2,
      "outputs": [
        {
          "output_type": "stream",
          "name": "stdout",
          "text": [
            "/content\n"
          ]
        }
      ]
    },
    {
      "cell_type": "code",
      "metadata": {
        "id": "nb3pg1ueApSv"
      },
      "source": [
        "os.chdir('/content/drive/MyDrive/Dataset')"
      ],
      "execution_count": 3,
      "outputs": []
    },
    {
      "cell_type": "code",
      "metadata": {
        "colab": {
          "base_uri": "https://localhost:8080/"
        },
        "id": "JoSnOkzNBVMg",
        "outputId": "d4a0256b-f023-4cd7-ca24-bc451fc7bdb0"
      },
      "source": [
        "!pwd"
      ],
      "execution_count": 4,
      "outputs": [
        {
          "output_type": "stream",
          "name": "stdout",
          "text": [
            "/content/drive/MyDrive/Dataset\n"
          ]
        }
      ]
    },
    {
      "cell_type": "markdown",
      "metadata": {
        "id": "Hudt0dOFApSx"
      },
      "source": [
        "Commented out IPython magic to ensure Python compatibility.<br>\n",
        "%matplotlib inline"
      ]
    },
    {
      "cell_type": "code",
      "metadata": {
        "id": "2Oq_B5QCApS0"
      },
      "source": [
        "import pandas as pd\n",
        "import numpy as np\n",
        "import matplotlib.pyplot as plt\n",
        "import random\n",
        "from tqdm import tqdm_notebook\n",
        "from copy import deepcopy"
      ],
      "execution_count": 5,
      "outputs": []
    },
    {
      "cell_type": "code",
      "metadata": {
        "id": "GdJomh_OApS1"
      },
      "source": [
        "import torch\n",
        "import torch.nn as nn\n",
        "import torch.nn.functional as F\n",
        "from torch.utils.data import DataLoader, Dataset\n",
        "device = torch.device(\"cuda:0\" if torch.cuda.is_available() else \"cpu\")"
      ],
      "execution_count": 6,
      "outputs": []
    },
    {
      "cell_type": "code",
      "metadata": {
        "id": "ip1MBkYQApS3"
      },
      "source": [
        "data_path = 'ml-100k/'"
      ],
      "execution_count": 7,
      "outputs": []
    },
    {
      "cell_type": "code",
      "metadata": {
        "id": "by69QH6zApS5"
      },
      "source": [
        "id_val = 1\n",
        "num_users = 943 \n",
        "num_items = 1682"
      ],
      "execution_count": 8,
      "outputs": []
    },
    {
      "cell_type": "code",
      "metadata": {
        "colab": {
          "base_uri": "https://localhost:8080/"
        },
        "id": "8tDT6oqAApS6",
        "outputId": "47911e58-6651-4294-fc8d-31284d101591"
      },
      "source": [
        "train_dataframe = pd.read_csv(f'{data_path}u{id_val}.base',sep='\\t',header=None)\n",
        "train_dataframe.columns = ['user_id','item_id','rating','ts']\n",
        "train_dataframe['user_id'] = train_dataframe['user_id'] -1 \n",
        "train_dataframe['item_id'] = train_dataframe['item_id'] -1\n",
        "valid_df = pd.read_csv(f'{data_path}u{id_val}.test',sep='\\t',header=None)\n",
        "valid_df.columns = ['user_id','item_id','rating','ts']\n",
        "valid_df['user_id'] = valid_df['user_id'] -1 \n",
        "valid_df['item_id'] = valid_df['item_id'] -1\n",
        "train_dataframe.shape, valid_df.shape"
      ],
      "execution_count": 9,
      "outputs": [
        {
          "output_type": "execute_result",
          "data": {
            "text/plain": [
              "((80000, 4), (20000, 4))"
            ]
          },
          "metadata": {},
          "execution_count": 9
        }
      ]
    },
    {
      "cell_type": "code",
      "metadata": {
        "colab": {
          "base_uri": "https://localhost:8080/"
        },
        "id": "QKkgBxgzApS7",
        "outputId": "af0a015a-72e0-4f96-ff77-4aa8f260b8c1"
      },
      "source": [
        "train_usrs = train_dataframe.user_id.unique()\n",
        "vald_usrs = valid_df.user_id.unique()\n",
        "len(train_usrs),len(vald_usrs)"
      ],
      "execution_count": 10,
      "outputs": [
        {
          "output_type": "execute_result",
          "data": {
            "text/plain": [
              "(943, 459)"
            ]
          },
          "metadata": {},
          "execution_count": 10
        }
      ]
    },
    {
      "cell_type": "code",
      "metadata": {
        "colab": {
          "base_uri": "https://localhost:8080/"
        },
        "id": "H19lVS8pApS8",
        "outputId": "b0f1f29e-1c66-4b8b-8daa-ff2e5afb36fb"
      },
      "source": [
        "train_itms = train_dataframe.item_id.unique()\n",
        "vald_itms = valid_df.item_id.unique()\n",
        "len(train_itms),len(vald_itms)"
      ],
      "execution_count": 11,
      "outputs": [
        {
          "output_type": "execute_result",
          "data": {
            "text/plain": [
              "(1650, 1410)"
            ]
          },
          "metadata": {},
          "execution_count": 11
        }
      ]
    },
    {
      "cell_type": "code",
      "metadata": {
        "id": "a3FyejewApS9"
      },
      "source": [
        "class CollabDataset(Dataset):\n",
        "    def __init__(self, df, user_col=0, item_col=1, rating_col=2):\n",
        "        self.df = df\n",
        "        self.user_tensor = torch.tensor(self.df.iloc[:,user_col], dtype=torch.long, device = device)\n",
        "        self.item_tensor = torch.tensor(self.df.iloc[:,item_col], dtype=torch.long, device = device)\n",
        "        self.target_tensor = torch.tensor(self.df.iloc[:,rating_col], dtype=torch.float32, device = device)\n",
        "        \n",
        "    def __getitem__(self, index):\n",
        "        return(self.user_tensor[index], self.item_tensor[index], self.target_tensor[index])\n",
        "    def __len__(self):\n",
        "        return(self.user_tensor.shape[0])"
      ],
      "execution_count": 12,
      "outputs": []
    },
    {
      "cell_type": "code",
      "metadata": {
        "colab": {
          "base_uri": "https://localhost:8080/"
        },
        "id": "-nUOuWLJApS-",
        "outputId": "d9f0224a-79ac-4e3a-881d-54a5e821b4fd"
      },
      "source": [
        "batch_size = 2000\n",
        "train_dataset = CollabDataset(train_dataframe)\n",
        "train_dataloader = DataLoader(train_dataset, batch_size=batch_size, shuffle=True, num_workers=4)\n",
        "valid_dataset = CollabDataset(valid_df)\n",
        "valid_dataloader = DataLoader(valid_dataset, batch_size=batch_size, shuffle=True, num_workers=4)"
      ],
      "execution_count": 13,
      "outputs": [
        {
          "output_type": "stream",
          "name": "stderr",
          "text": [
            "/usr/local/lib/python3.7/dist-packages/torch/utils/data/dataloader.py:481: UserWarning: This DataLoader will create 4 worker processes in total. Our suggested max number of worker in current system is 2, which is smaller than what this DataLoader is going to create. Please be aware that excessive worker creation might get DataLoader running slow or even freeze, lower the worker number to avoid potential slowness/freeze if necessary.\n",
            "  cpuset_checked))\n"
          ]
        }
      ]
    },
    {
      "cell_type": "code",
      "metadata": {
        "colab": {
          "base_uri": "https://localhost:8080/"
        },
        "id": "k7omzDutApS_",
        "outputId": "fa05e58a-a93d-4f4a-c0f7-580ece93eb1d"
      },
      "source": [
        "len(train_dataset),len(valid_dataset),len(train_dataloader),len(valid_dataloader)\n",
        "train_dataset[:3]"
      ],
      "execution_count": 14,
      "outputs": [
        {
          "output_type": "execute_result",
          "data": {
            "text/plain": [
              "(tensor([0, 0, 0]), tensor([0, 1, 2]), tensor([5., 3., 4.]))"
            ]
          },
          "metadata": {},
          "execution_count": 14
        }
      ]
    },
    {
      "cell_type": "code",
      "metadata": {
        "colab": {
          "base_uri": "https://localhost:8080/"
        },
        "id": "xR_pnLvXApS_",
        "outputId": "e01a8365-4197-4ec1-9918-11b4be3d4e89"
      },
      "source": [
        "next(iter(train_dataloader))"
      ],
      "execution_count": 15,
      "outputs": [
        {
          "output_type": "stream",
          "name": "stderr",
          "text": [
            "/usr/local/lib/python3.7/dist-packages/torch/utils/data/dataloader.py:481: UserWarning: This DataLoader will create 4 worker processes in total. Our suggested max number of worker in current system is 2, which is smaller than what this DataLoader is going to create. Please be aware that excessive worker creation might get DataLoader running slow or even freeze, lower the worker number to avoid potential slowness/freeze if necessary.\n",
            "  cpuset_checked))\n"
          ]
        },
        {
          "output_type": "execute_result",
          "data": {
            "text/plain": [
              "[tensor([537, 746, 737,  ..., 458,  41, 424]),\n",
              " tensor([ 49, 653, 194,  ..., 270, 940,  31]),\n",
              " tensor([5., 5., 4.,  ..., 4., 4., 3.])]"
            ]
          },
          "metadata": {},
          "execution_count": 15
        }
      ]
    },
    {
      "cell_type": "code",
      "metadata": {
        "id": "71lEx4AmApTA"
      },
      "source": [
        "class ConcatNet(nn.Module):\n",
        "    def __init__(self, config):\n",
        "        super(ConcatNet, self).__init__()\n",
        "        #hyperparameters\n",
        "        self.config = config\n",
        "        self.num_users = config['num_users']\n",
        "        self.num_items = config['num_items']\n",
        "        self.emb_size = config['emb_size']\n",
        "        self.emb_droupout = config['emb_droupout']\n",
        "        self.fc_layer_sizes = config['fc_layer_sizes']\n",
        "        self.dropout = config['dropout']\n",
        "        self.out_range = config['out_range']\n",
        "\n",
        "        #embeddings\n",
        "        self.emb_user = nn.Sequential(\n",
        "            nn.Embedding(num_embeddings=self.num_users, embedding_dim=self.emb_size),\n",
        "            nn.Dropout(p=self.emb_droupout))\n",
        "        self.emb_item = nn.Sequential(\n",
        "            nn.Embedding(num_embeddings=self.num_items, embedding_dim=self.emb_size),\n",
        "            nn.Dropout(p=self.emb_droupout))\n",
        "\n",
        "        #fully-connected layers\n",
        "        fc_layers_list = []\n",
        "        for ni,nf,p in zip(self.fc_layer_sizes[:-1], self.fc_layer_sizes[1:], self.dropout):\n",
        "            fc_layers_list.append(nn.Linear(ni, nf))\n",
        "            fc_layers_list.append(nn.ReLU(inplace=True))\n",
        "            fc_layers_list.append(nn.BatchNorm1d(nf))\n",
        "            fc_layers_list.append(nn.Dropout(p=p))\n",
        "        self.fc_layers = nn.Sequential(*fc_layers_list)\n",
        "\n",
        "        #output head\n",
        "        self.head = torch.nn.Linear(in_features=self.fc_layer_sizes[-1], out_features=1)\n",
        "    def forward(self, user_idx, item_idx):\n",
        "        user_emb = self.emb_user(user_idx)\n",
        "        item_emb = self.emb_item(item_idx)\n",
        "        x = torch.cat([user_emb, item_emb], dim=1)\n",
        "        x = self.fc_layers(x)\n",
        "        x = torch.sigmoid(self.head(x))\n",
        "        x = x * (self.out_range[1] - self.out_range[0]) + self.out_range[0]\n",
        "        return(x)"
      ],
      "execution_count": 16,
      "outputs": []
    },
    {
      "cell_type": "code",
      "metadata": {
        "colab": {
          "base_uri": "https://localhost:8080/"
        },
        "id": "UxCP5EtdApTG",
        "outputId": "5e9352e6-5b77-4d66-eb7c-29e85cb45107"
      },
      "source": [
        "config = {\n",
        "    'num_users':943, \n",
        "    'num_items':1682, \n",
        "    'emb_size':50, \n",
        "    'emb_droupout': 0.05, \n",
        "    'fc_layer_sizes': [100, 512, 256], \n",
        "    'dropout': [0.7,0.35], \n",
        "    'out_range': [0.8,5.2]} \n",
        "model = ConcatNet(config)\n",
        "model"
      ],
      "execution_count": 17,
      "outputs": [
        {
          "output_type": "execute_result",
          "data": {
            "text/plain": [
              "ConcatNet(\n",
              "  (emb_user): Sequential(\n",
              "    (0): Embedding(943, 50)\n",
              "    (1): Dropout(p=0.05, inplace=False)\n",
              "  )\n",
              "  (emb_item): Sequential(\n",
              "    (0): Embedding(1682, 50)\n",
              "    (1): Dropout(p=0.05, inplace=False)\n",
              "  )\n",
              "  (fc_layers): Sequential(\n",
              "    (0): Linear(in_features=100, out_features=512, bias=True)\n",
              "    (1): ReLU(inplace=True)\n",
              "    (2): BatchNorm1d(512, eps=1e-05, momentum=0.1, affine=True, track_running_stats=True)\n",
              "    (3): Dropout(p=0.7, inplace=False)\n",
              "    (4): Linear(in_features=512, out_features=256, bias=True)\n",
              "    (5): ReLU(inplace=True)\n",
              "    (6): BatchNorm1d(256, eps=1e-05, momentum=0.1, affine=True, track_running_stats=True)\n",
              "    (7): Dropout(p=0.35, inplace=False)\n",
              "  )\n",
              "  (head): Linear(in_features=256, out_features=1, bias=True)\n",
              ")"
            ]
          },
          "metadata": {},
          "execution_count": 17
        }
      ]
    },
    {
      "cell_type": "code",
      "metadata": {
        "id": "GscyMLd1ApTK"
      },
      "source": [
        "batch_size = 2000 \n",
        "learning_rate = 1e-2 \n",
        "weight_decay = 5e-1 \n",
        "num_epoch = 100 \n",
        "reduce_learning_rate = 1 \n",
        "early_stoping = 5 "
      ],
      "execution_count": 18,
      "outputs": []
    },
    {
      "cell_type": "code",
      "metadata": {
        "id": "s7yOhzKxApTL"
      },
      "source": [
        "learning_rates = []\n",
        "train_losses=[]\n",
        "valid_losses = []\n",
        "best_loss = np.inf\n",
        "best_weights = None"
      ],
      "execution_count": 19,
      "outputs": []
    },
    {
      "cell_type": "code",
      "metadata": {
        "colab": {
          "base_uri": "https://localhost:8080/"
        },
        "id": "oehqTxdJApTL",
        "outputId": "3b0f7518-972c-4337-8a60-1a7016436b46"
      },
      "source": [
        "train_dataset = CollabDataset(train_dataframe)\n",
        "train_dataloader = DataLoader(train_dataset, batch_size=batch_size, shuffle=True, num_workers=4)\n",
        "valid_dataset = CollabDataset(valid_df)\n",
        "valid_dataloader = DataLoader(valid_dataset, batch_size=batch_size, shuffle=True, num_workers=4)"
      ],
      "execution_count": 20,
      "outputs": [
        {
          "output_type": "stream",
          "name": "stderr",
          "text": [
            "/usr/local/lib/python3.7/dist-packages/torch/utils/data/dataloader.py:481: UserWarning: This DataLoader will create 4 worker processes in total. Our suggested max number of worker in current system is 2, which is smaller than what this DataLoader is going to create. Please be aware that excessive worker creation might get DataLoader running slow or even freeze, lower the worker number to avoid potential slowness/freeze if necessary.\n",
            "  cpuset_checked))\n"
          ]
        }
      ]
    },
    {
      "cell_type": "code",
      "metadata": {
        "id": "_Z2U1H8_ApTM"
      },
      "source": [
        "model = ConcatNet(config)\n",
        "criterion = nn.MSELoss(reduction='sum')\n",
        "optim = torch.optim.Adam(model.parameters(), lr=learning_rate, betas=(0.9,0.999), weight_decay=weight_decay)\n",
        "scheduler = torch.optim.lr_scheduler.ReduceLROnPlateau(optim, mode='min',factor=0.5, threshold=1e-3,\n",
        "                                                       patience=reduce_learning_rate, min_lr=learning_rate/10)"
      ],
      "execution_count": 21,
      "outputs": []
    },
    {
      "cell_type": "code",
      "metadata": {
        "colab": {
          "base_uri": "https://localhost:8080/",
          "height": 579,
          "referenced_widgets": [
            "22c92cbb5dda4b629b9a19f99912a4ed",
            "5b68332e2f6f4e57b6bc8d316695e95b",
            "05cbaa492add4a9fb56483bc4be86dd7",
            "9477b7b04c65461ea844962a8ea53fea",
            "661b99a7d28d41dea22a1f72b3965341",
            "151a2875b2f94bafb2a8d65b5e0f4ae0",
            "d08c07b75d40477982028446f6875955",
            "c90f3bda751d4dc89cc375bc00bed7b0",
            "57ab994ce026411c994ac055bb58db12",
            "7c1b9bbe4e6d4299af3f2ba842e2592d",
            "6a0831d6c27440549f74205cd1ff75c8"
          ]
        },
        "id": "PM2s2cWYApTN",
        "outputId": "7aac512c-d2d0-4ff7-9749-7f62cc49d84a"
      },
      "source": [
        "for e in tqdm_notebook(range(num_epoch)): \n",
        "    model.train()\n",
        "    train_loss = 0\n",
        "    for u,i,r in train_dataloader:\n",
        "        r_pred = model(u,i)\n",
        "        r = r[:,None]\n",
        "        \n",
        "        loss = criterion(r_pred,r)\n",
        "        \n",
        "        optim.zero_grad()\n",
        "        loss.backward()\n",
        "        optim.step()\n",
        "        current_learning_rate=optim.param_groups[0][\"lr\"]\n",
        "        train_loss+= loss.detach().item()\n",
        "    #current_learning_rate = scheduler.optimizer.param_groups[0]['learning_rate']\n",
        "    #current_learning_rate = scheduler.step(loss)\n",
        "    learning_rates.append(current_learning_rate)\n",
        "    train_loss /= len(train_dataset)\n",
        "    train_losses.append(train_loss)\n",
        "    \n",
        "    model.eval()\n",
        "    valid_loss = 0\n",
        "    for u,i,r in valid_dataloader:\n",
        "        r_pred = model(u,i)\n",
        "        r = r[:,None]\n",
        "        loss = criterion(r_pred,r)\n",
        "        valid_loss+=loss.detach().item()\n",
        "    valid_loss/=len(valid_dataset)\n",
        "    #record\n",
        "    valid_losses.append(valid_loss)\n",
        "    print(f'Epoch {e} Train loss: {train_loss}; Valid loss: {valid_loss}; Learning rate: {current_learning_rate}')\n",
        "    if valid_loss < best_loss:\n",
        "        best_loss = valid_loss\n",
        "        best_weights = deepcopy(model.state_dict())\n",
        "        no_improvements = 0\n",
        "    else:\n",
        "        no_improvements += 1\n",
        "    if no_improvements >= early_stoping:\n",
        "        print(f'early stopping after epoch {e}')\n",
        "        break\n",
        "    \n",
        "    scheduler.step(valid_loss)"
      ],
      "execution_count": 22,
      "outputs": [
        {
          "output_type": "stream",
          "name": "stderr",
          "text": [
            "/usr/local/lib/python3.7/dist-packages/ipykernel_launcher.py:1: TqdmDeprecationWarning: This function will be removed in tqdm==5.0.0\n",
            "Please use `tqdm.notebook.tqdm` instead of `tqdm.tqdm_notebook`\n",
            "  \"\"\"Entry point for launching an IPython kernel.\n"
          ]
        },
        {
          "output_type": "display_data",
          "data": {
            "application/vnd.jupyter.widget-view+json": {
              "model_id": "22c92cbb5dda4b629b9a19f99912a4ed",
              "version_minor": 0,
              "version_major": 2
            },
            "text/plain": [
              "  0%|          | 0/100 [00:00<?, ?it/s]"
            ]
          },
          "metadata": {}
        },
        {
          "output_type": "stream",
          "name": "stderr",
          "text": [
            "/usr/local/lib/python3.7/dist-packages/torch/utils/data/dataloader.py:481: UserWarning: This DataLoader will create 4 worker processes in total. Our suggested max number of worker in current system is 2, which is smaller than what this DataLoader is going to create. Please be aware that excessive worker creation might get DataLoader running slow or even freeze, lower the worker number to avoid potential slowness/freeze if necessary.\n",
            "  cpuset_checked))\n"
          ]
        },
        {
          "output_type": "stream",
          "name": "stdout",
          "text": [
            "Epoch 0 Train loss: 1.3727562622070313; Valid loss: 1.196092431640625; Learning rate: 0.01\n",
            "Epoch 1 Train loss: 1.0914699295043946; Valid loss: 1.0638611267089844; Learning rate: 0.01\n",
            "Epoch 2 Train loss: 0.9891981674194336; Valid loss: 0.9875889526367188; Learning rate: 0.01\n",
            "Epoch 3 Train loss: 0.9276249069213868; Valid loss: 0.9392919067382812; Learning rate: 0.01\n",
            "Epoch 4 Train loss: 0.8989069580078125; Valid loss: 0.9237121276855469; Learning rate: 0.01\n",
            "Epoch 5 Train loss: 0.8832414535522461; Valid loss: 0.9138063293457032; Learning rate: 0.01\n",
            "Epoch 6 Train loss: 0.8745560012817383; Valid loss: 0.9235019287109375; Learning rate: 0.01\n",
            "Epoch 7 Train loss: 0.8625772781372071; Valid loss: 0.9062754577636719; Learning rate: 0.01\n",
            "Epoch 8 Train loss: 0.8544833129882813; Valid loss: 0.9047684204101563; Learning rate: 0.01\n",
            "Epoch 9 Train loss: 0.8461960891723633; Valid loss: 0.8911216857910156; Learning rate: 0.01\n",
            "Epoch 10 Train loss: 0.8335615768432617; Valid loss: 0.8798098754882813; Learning rate: 0.01\n",
            "Epoch 11 Train loss: 0.824001171875; Valid loss: 0.8805914855957031; Learning rate: 0.01\n",
            "Epoch 12 Train loss: 0.8182423950195312; Valid loss: 0.8777358093261719; Learning rate: 0.01\n",
            "Epoch 13 Train loss: 0.8149729354858398; Valid loss: 0.8732635559082031; Learning rate: 0.01\n",
            "Epoch 14 Train loss: 0.8094568893432618; Valid loss: 0.8741459350585937; Learning rate: 0.01\n",
            "Epoch 15 Train loss: 0.8043722152709961; Valid loss: 0.8658474365234375; Learning rate: 0.01\n",
            "Epoch 16 Train loss: 0.801922380065918; Valid loss: 0.8808114929199219; Learning rate: 0.01\n",
            "Epoch 17 Train loss: 0.7986676895141601; Valid loss: 0.866523583984375; Learning rate: 0.01\n",
            "Epoch 18 Train loss: 0.7631731964111328; Valid loss: 0.856401025390625; Learning rate: 0.005\n",
            "Epoch 19 Train loss: 0.7484514617919922; Valid loss: 0.859224462890625; Learning rate: 0.005\n",
            "Epoch 20 Train loss: 0.7446434509277344; Valid loss: 0.8651026794433594; Learning rate: 0.005\n",
            "Epoch 21 Train loss: 0.7143510787963867; Valid loss: 0.8655946044921875; Learning rate: 0.0025\n",
            "Epoch 22 Train loss: 0.7013307830810547; Valid loss: 0.8655689758300781; Learning rate: 0.0025\n",
            "Epoch 23 Train loss: 0.6735723937988282; Valid loss: 0.8666028747558594; Learning rate: 0.00125\n",
            "early stopping after epoch 23\n"
          ]
        }
      ]
    },
    {
      "cell_type": "code",
      "metadata": {
        "colab": {
          "base_uri": "https://localhost:8080/",
          "height": 284
        },
        "id": "QuQehZwFApTQ",
        "outputId": "c1ee9195-31ac-4ba4-b9b5-f2a1b50cfe81"
      },
      "source": [
        "plt.plot(train_losses)\n",
        "plt.plot(valid_losses)"
      ],
      "execution_count": 23,
      "outputs": [
        {
          "output_type": "execute_result",
          "data": {
            "text/plain": [
              "[<matplotlib.lines.Line2D at 0x7faa9cd619d0>]"
            ]
          },
          "metadata": {},
          "execution_count": 23
        },
        {
          "output_type": "display_data",
          "data": {
            "image/png": "[encoded data removed]",
            "text/plain": [
              "<Figure size 432x288 with 1 Axes>"
            ]
          },
          "metadata": {
            "needs_background": "light"
          }
        }
      ]
    }
  ]
}